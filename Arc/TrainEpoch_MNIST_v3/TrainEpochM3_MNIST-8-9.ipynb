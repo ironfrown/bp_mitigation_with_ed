{
 "cells": [
  {
   "cell_type": "markdown",
   "metadata": {
    "tags": []
   },
   "source": [
    "# Impact of Barren Plateaus Mitigation Strategy on the Performance of Quantum Neural Networks\n",
    "## Training QNN treated with method 3 (Identity Blocks) of the BP mitigation strategy\n",
    "**Authors:**\n",
    "- Jacob Cybulski and Thanh Nguyen\n",
    "\n",
    "**Date:**\n",
    "- June 2023\n",
    "\n",
    "**Specs:**\n",
    "- Data = MNIST dataset with 500 randomly selected examples\n",
    "- Features = 4 top PCA components\n",
    "- Target = {-1, 1}\n",
    "- Iterations = 120\n",
    "- Instance = 10\n",
    "\n",
    "**Description:**\n",
    "- This notebook aims to train a QNN initialised with identity blocks and produce averaged performance stats"
   ]
  },
  {
   "cell_type": "code",
   "execution_count": 1,
   "metadata": {},
   "outputs": [],
   "source": [
    "import copy, math\n",
    "import numpy as np\n",
    "import pandas as pd\n",
    "from matplotlib import pyplot as plt\n",
    "\n",
    "from sklearn.datasets import make_moons, make_circles, make_blobs, load_iris\n",
    "from sklearn.model_selection import train_test_split\n",
    "from sklearn.metrics import accuracy_score\n",
    "\n",
    "import torch\n",
    "from torch import nn\n",
    "from torch.nn import functional as F\n",
    "from torch.utils.data import TensorDataset, DataLoader\n",
    "\n",
    "from qiskit import Aer, IBMQ\n",
    "from qiskit_aer import AerSimulator\n",
    "from qiskit.utils import QuantumInstance\n",
    "from qiskit.utils import algorithm_globals\n",
    "from qiskit.algorithms.optimizers import COBYLA, NELDER_MEAD, SLSQP, SPSA\n",
    "from qiskit.opflow import Z, I, StateFn, PauliExpectation, Gradient, NaturalGradient, PauliSumOp\n",
    "from qiskit.circuit.library import ZZFeatureMap, RealAmplitudes\n",
    "from qiskit_machine_learning.neural_networks import SamplerQNN, EstimatorQNN, OpflowQNN, CircuitQNN, TwoLayerQNN\n",
    "from qiskit_machine_learning.neural_networks import EffectiveDimension\n",
    "from qiskit_machine_learning.algorithms.classifiers import VQC, NeuralNetworkClassifier\n",
    "from qiskit.quantum_info import SparsePauliOp\n",
    "from qiskit_machine_learning.connectors import TorchConnector\n",
    "\n",
    "# Set seed for random generators\n",
    "algorithm_globals.random_seed = 42\n",
    "\n",
    "from IPython.display import clear_output"
   ]
  },
  {
   "cell_type": "code",
   "execution_count": 2,
   "metadata": {},
   "outputs": [],
   "source": [
    "from Components.circuits import preTrainedBlockGenerator, layerwise_training, featureMapGenerator, AnsatzGenerator\n",
    "from Components.data import iris, fetch_mnist, fetch_mnist_balanced\n",
    "from Components.utils import plot_loss, score, parity, classification_callback, plot_objfn_range, result_to_objfun_dataframes, save_results\n",
    "from Components.train import create_qnn, sampling_experiment, train, train_batch"
   ]
  },
  {
   "cell_type": "code",
   "execution_count": 3,
   "metadata": {},
   "outputs": [],
   "source": [
    "DATA_SIZE = 500\n",
    "FEATURE_DIM = 4\n",
    "MAX_ITER = 120\n",
    "MAX_INST = 10\n",
    "\n",
    "MAX_REPS = 9\n",
    "MIN_REPS = 1\n",
    "MAX_IDENTITIES_BLOCKS = 2  # <---- Number of identity blocks, depth values of identity blocks is close to that of normal ansatz (5 qubits)\n",
    "ENTANGLEMENT = 'linear'\n",
    "\n",
    "GLOBAL_OPERATOR = PauliSumOp.from_list([('Z'*FEATURE_DIM, 1)])\n",
    "LOCAL_OPERATOR = PauliSumOp.from_list([('I' * (FEATURE_DIM - 2)+'Z'*2, 1)])\n",
    "\n",
    "SAVE_PATH = './Saves-MNIST-500-v3'\n",
    "METHOD_TAG = 'm3'\n",
    "\n",
    "parity = lambda x: \"{:b}\".format(x).count(\"1\") % 2  # optional interpret function, can't be used for EstimatorQNN"
   ]
  },
  {
   "cell_type": "code",
   "execution_count": 4,
   "metadata": {},
   "outputs": [
    {
     "name": "stdout",
     "output_type": "stream",
     "text": [
      "Training set: 350 samples\n",
      "Testing set: 150 samples\n",
      "Number of features: 4\n",
      "Classes:[0 1]; Encoded as: [-1  1]\n"
     ]
    }
   ],
   "source": [
    "X_train, X_val, y_train, y_val = fetch_mnist_balanced(PCA_n = FEATURE_DIM, data_size=DATA_SIZE)\n",
    "# X_train, X_val, y_train, y_val = fetch_mnist(PCA_n = FEATURE_DIM, data_size=DATA_SIZE)\n",
    "# X_train, X_val, y_train, y_val = iris(pd=False, PCA_n=None)\n",
    "\n",
    "X_train_t = torch.from_numpy(X_train).to(torch.float32)\n",
    "y_train_t = torch.from_numpy(y_train).to(torch.float32)\n",
    "X_val_t = torch.from_numpy(X_val).to(torch.float32)\n",
    "y_val_t = torch.from_numpy(y_val).to(torch.float32)"
   ]
  },
  {
   "cell_type": "code",
   "execution_count": 5,
   "metadata": {},
   "outputs": [
    {
     "data": {
      "image/png": "[encoded data removed]",
      "text/plain": [
       "<Figure size 432x288 with 1 Axes>"
      ]
     },
     "metadata": {
      "needs_background": "light"
     },
     "output_type": "display_data"
    },
    {
     "name": "stdout",
     "output_type": "stream",
     "text": [
      "Blue: torch.Size([175])\n",
      "Green: torch.Size([175])\n"
     ]
    }
   ],
   "source": [
    "# Plot dataset (only the first two args)\n",
    "for x, y_target in zip(X_train_t, y_train_t):\n",
    "    if y_target == 1:\n",
    "        plt.plot(x[0], x[1], color=\"blue\", marker=\".\", markersize=3)\n",
    "    else:\n",
    "        plt.plot(x[0], x[1], color=\"green\", marker=\".\", markersize=3)\n",
    "plt.xlabel('PC 0')\n",
    "plt.ylabel('PC 1')\n",
    "plt.show()\n",
    "\n",
    "rows_b = np.where(np.array(y_train_t)==1)\n",
    "rows_g = np.where(np.array(y_train_t)==-1)\n",
    "print('Blue:', y_train_t[rows_b].size())\n",
    "print('Green:', y_train_t[rows_g].size())"
   ]
  },
  {
   "cell_type": "code",
   "execution_count": 6,
   "metadata": {},
   "outputs": [
    {
     "data": {
      "image/png": "[encoded data removed]",
      "text/plain": [
       "<Figure size 432x288 with 1 Axes>"
      ]
     },
     "metadata": {
      "needs_background": "light"
     },
     "output_type": "display_data"
    },
    {
     "name": "stdout",
     "output_type": "stream",
     "text": [
      "Blue: torch.Size([175])\n",
      "Green: torch.Size([175])\n"
     ]
    }
   ],
   "source": [
    "# Plot dataset (only the first two args)\n",
    "for x, y_target in zip(X_train_t, y_train_t):\n",
    "    if y_target == 1:\n",
    "        plt.plot(x[0], x[2], color=\"blue\", marker=\".\", markersize=3)\n",
    "    else:\n",
    "        plt.plot(x[0], x[2], color=\"green\", marker=\".\", markersize=3)\n",
    "plt.xlabel('PC 0')\n",
    "plt.ylabel('PC 2')\n",
    "plt.show()\n",
    "\n",
    "rows_b = np.where(np.array(y_train_t)==1)\n",
    "rows_g = np.where(np.array(y_train_t)==-1)\n",
    "print('Blue:', y_train_t[rows_b].size())\n",
    "print('Green:', y_train_t[rows_g].size())"
   ]
  },
  {
   "cell_type": "code",
   "execution_count": 7,
   "metadata": {},
   "outputs": [],
   "source": [
    "def show_loss(losses):\n",
    "    plt.figure(figsize=(12, 8))\n",
    "    plt.plot(range(len(losses)), losses)\n",
    "    plt.xlabel(\"Iteration\")\n",
    "    plt.ylabel(\"Loss\")\n",
    "    plt.show()"
   ]
  },
  {
   "cell_type": "code",
   "execution_count": 8,
   "metadata": {},
   "outputs": [],
   "source": [
    "# Backend instance has been deprecated\n",
    "# For more info see: https://qiskit.org/documentation/migration_guides/qi_migration.html\n",
    "\n",
    "# backend = Aer.get_backend('statevector_simulator')\n",
    "# q_instance = QuantumInstance(\n",
    "#     backend, \n",
    "#     shots = 100, \n",
    "#     seed_simulator = 2718, \n",
    "#     seed_transpiler = 2718,\n",
    "#     )\n",
    "\n",
    "# The following configuration will use a local simulator"
   ]
  },
  {
   "cell_type": "markdown",
   "metadata": {},
   "source": [
    "## Method 3 (Identity Blocks)"
   ]
  },
  {
   "cell_type": "code",
   "execution_count": 9,
   "metadata": {},
   "outputs": [],
   "source": [
    "from qiskit.primitives import Estimator # Statevector estimator\n",
    "from os.path import exists"
   ]
  },
  {
   "cell_type": "code",
   "execution_count": 10,
   "metadata": {},
   "outputs": [],
   "source": [
    "feature_map = featureMapGenerator(FEATURE_DIM)\n",
    "identity_block = preTrainedBlockGenerator(FEATURE_DIM, MAX_IDENTITIES_BLOCKS, overlay=2, entanglement=ENTANGLEMENT, insert_barriers=True)\n",
    "ansatz = identity_block['circuit']\n",
    "qc = feature_map.compose(ansatz)"
   ]
  },
  {
   "cell_type": "code",
   "execution_count": 11,
   "metadata": {},
   "outputs": [
    {
     "name": "stdout",
     "output_type": "stream",
     "text": [
      "Adding a new instance 9 of method m3\n",
      "\n",
      "Epoch      Loss                 Train Accuracy   Test Accuracy   \n",
      "[ 0 ]      1.0                  0.5              0.5             \n",
      "[ 10 ]     0.6398199796676636   0.87143          0.84667         \n",
      "[ 20 ]     0.574940025806427    0.91714          0.88667         \n",
      "[ 30 ]     0.5691199898719788   0.92             0.89333         \n",
      "[ 40 ]     0.5706300139427185   0.91429          0.90667         \n",
      "[ 50 ]     0.5663599967956543   0.91429          0.91333         \n",
      "[ 60 ]     0.5648599863052368   0.92286          0.92667         \n",
      "[ 70 ]     0.5628100037574768   0.92             0.92            \n",
      "[ 80 ]     0.5614299774169922   0.92571          0.92            \n",
      "[ 90 ]     0.5637400150299072   0.92286          0.91333         \n",
      "[ 100 ]    0.5623900294303894   0.92857          0.90667         \n",
      "[ 110 ]    0.5603500008583069   0.93143          0.90667         \n",
      "[ 119 ]    0.5596399903297424   0.91714          0.92            \n"
     ]
    }
   ],
   "source": [
    "for i in [8, 9]: # range(MAX_INST):\n",
    "    # Mark that the method's data has been saved\n",
    "    if (exists(f'{SAVE_PATH}/Logs/{METHOD_TAG}-Method.csv')):\n",
    "        print(f'Adding a new instance {i} of method {METHOD_TAG}\\n')\n",
    "    else:\n",
    "        print(f'Creating the first instance {i} of method {METHOD_TAG}\\n')\n",
    "        \n",
    "    # The identity block returns parameters in order different to that in the ansatz\n",
    "    identity_block = preTrainedBlockGenerator(FEATURE_DIM, MAX_IDENTITIES_BLOCKS, overlay=2, entanglement=ENTANGLEMENT, insert_barriers=True)\n",
    "    id_dict = {k.name : v for k, v in identity_block['params_values'].items()}\n",
    "    initial_point = [id_dict[p.name] for p in list(ansatz.parameters)]\n",
    "\n",
    "    # By default this will run as a local simulation\n",
    "    qnn = EstimatorQNN(\n",
    "        circuit=qc,\n",
    "        estimator=Estimator(),\n",
    "        observables=GLOBAL_OPERATOR,\n",
    "        input_params=feature_map.parameters,\n",
    "        weight_params=ansatz.parameters\n",
    "    )\n",
    "\n",
    "    model = TorchConnector(qnn, initial_weights=initial_point)\n",
    "\n",
    "    loss_function = nn.MSELoss()\n",
    "    optimizer = torch.optim.NAdam(model.parameters(), lr=0.05)\n",
    "\n",
    "    model, losses, accuracy_train, accuracy_test, weights = train(\n",
    "        model, \n",
    "        MAX_ITER, \n",
    "        X_train_t,\n",
    "        y_train_t,\n",
    "        X_val_t,\n",
    "        y_val_t,\n",
    "        optimizer = optimizer, \n",
    "        loss_function = loss_function\n",
    "        )\n",
    "\n",
    "    # losses_3.append(losses)\n",
    "    # accuracy_train_3.append(accuracy_train)\n",
    "    # accuracy_test_3.append(accuracy_test)\n",
    "    # weights_3.append(weights)\n",
    "    \n",
    "    pd.DataFrame(losses).astype('float').to_csv(f'{SAVE_PATH}/Logs/{METHOD_TAG}-{i}-LossFunction.csv')\n",
    "    pd.DataFrame(accuracy_train).astype('float').to_csv(f'{SAVE_PATH}/Logs/{METHOD_TAG}-{i}-Scores-Train.csv')\n",
    "    pd.DataFrame(accuracy_test).astype('float').to_csv(f'{SAVE_PATH}/Logs/{METHOD_TAG}-{i}-Scores-Test.csv')\n",
    "    pd.DataFrame(weights).astype('float').to_csv(f'{SAVE_PATH}/Logs/{METHOD_TAG}-{i}-Weights.csv')\n",
    "    \n",
    "    # Mark that the method's data has been saved\n",
    "    if (exists(f'{SAVE_PATH}/Logs/{METHOD_TAG}-Method.csv')):\n",
    "        f = open(f'{SAVE_PATH}/Logs/{METHOD_TAG}-Method.csv', 'a')\n",
    "    else:\n",
    "        f = open(f'{SAVE_PATH}/Logs/{METHOD_TAG}-Method.csv', 'w')\n",
    "        f.write(f'{METHOD_TAG},Instance,Max Inst,Examples,Features,Iterations\\n')\n",
    "    f.write(f',{i},{MAX_INST},{DATA_SIZE},{FEATURE_DIM},{MAX_ITER}\\n')\n",
    "    f.close()\n",
    "    \n",
    "    clear_output(wait=True)"
   ]
  },
  {
   "cell_type": "code",
   "execution_count": 14,
   "metadata": {},
   "outputs": [
    {
     "name": "stdout",
     "output_type": "stream",
     "text": [
      "qiskit                        0.43.0\n",
      "qiskit-aer                    0.12.0\n",
      "qiskit-dynamics               0.4.0\n",
      "qiskit-experiments            0.5.2\n",
      "qiskit-finance                0.3.4\n",
      "qiskit-ibm-experiment         0.3.1\n",
      "qiskit-ibm-runtime            0.9.4\n",
      "qiskit-ibmq-provider          0.20.2\n",
      "qiskit-machine-learning       0.6.1\n",
      "qiskit-nature                 0.6.0\n",
      "qiskit-optimization           0.5.0\n",
      "qiskit-terra                  0.24.0\n"
     ]
    }
   ],
   "source": [
    "!pip list | grep qiskit"
   ]
  },
  {
   "cell_type": "code",
   "execution_count": 15,
   "metadata": {},
   "outputs": [
    {
     "name": "stdout",
     "output_type": "stream",
     "text": [
      "torch                         2.0.1\n",
      "torchsummary                  1.5.1\n"
     ]
    }
   ],
   "source": [
    "!pip list | grep torch"
   ]
  }
 ],
 "metadata": {
  "kernelspec": {
   "display_name": "Python 3 (ipykernel)",
   "language": "python",
   "name": "python3"
  },
  "language_info": {
   "codemirror_mode": {
    "name": "ipython",
    "version": 3
   },
   "file_extension": ".py",
   "mimetype": "text/x-python",
   "name": "python",
   "nbconvert_exporter": "python",
   "pygments_lexer": "ipython3",
   "version": "3.8.13"
  },
  "vscode": {
   "interpreter": {
    "hash": "6a13c8f5b783206a43b73a673b4c249a5e5ee0a2cf865a54b80fb656bbdf8626"
   }
  }
 },
 "nbformat": 4,
 "nbformat_minor": 4
}
