{
 "cells": [
  {
   "cell_type": "markdown",
   "metadata": {},
   "source": [
    "# Measure Capacity of QNN architechture with Effective Dimension analysis\n",
    "\n",
    "References:\n",
    "- QISKIT guide to calculate ED: [Effective Dimension of Qiskit Neural Networks](https://qiskit.org/documentation/machine-learning/tutorials/10_effective_dimension.html)\n",
    "- [The power of quantum neural networks](https://arxiv.org/pdf/2011.00027.pdf)\n",
    "- [Effective dimension of machine learning models](https://arxiv.org/pdf/2112.04807.pdf)"
   ]
  },
  {
   "cell_type": "code",
   "execution_count": 1,
   "metadata": {
    "tags": []
   },
   "outputs": [
    {
     "data": {
      "text/plain": [
       "{'qiskit-terra': '0.24.0', 'qiskit-aer': '0.12.0', 'qiskit-ignis': None, 'qiskit-ibmq-provider': '0.20.2', 'qiskit': '0.43.0', 'qiskit-nature': '0.6.0', 'qiskit-finance': '0.3.4', 'qiskit-optimization': '0.5.0', 'qiskit-machine-learning': '0.6.1'}"
      ]
     },
     "execution_count": 1,
     "metadata": {},
     "output_type": "execute_result"
    }
   ],
   "source": [
    "import qiskit\n",
    "qiskit.__qiskit_version__"
   ]
  },
  {
   "cell_type": "markdown",
   "metadata": {},
   "source": [
    "The Fisher Information matrix reflects how sensitive a neural network's output to change in the network's parameter space.\n",
    "Effective dimension uses Fisher Information matrix to measure capacity of NNs.\n",
    "\n",
    "Steps as follows:\n",
    "- Define a neural network\n",
    "- Define a series of inputs and weight samples.\n",
    "- Use `EffectiveDimension` class to calculate effective dimension\n"
   ]
  },
  {
   "cell_type": "code",
   "execution_count": 2,
   "metadata": {
    "tags": []
   },
   "outputs": [],
   "source": [
    "import numpy as np\n",
    "import matplotlib.pyplot as plt\n",
    "\n",
    "from qiskit import Aer, IBMQ\n",
    "from qiskit.utils import QuantumInstance\n",
    "from qiskit.utils import algorithm_globals\n",
    "from qiskit.algorithms.optimizers import COBYLA, NELDER_MEAD, SLSQP, SPSA\n",
    "from qiskit.opflow import Z, X, I, StateFn, PauliExpectation, Gradient, PauliSumOp\n",
    "from qiskit_machine_learning.neural_networks import SamplerQNN, EstimatorQNN, OpflowQNN\n",
    "from qiskit_machine_learning.neural_networks import EffectiveDimension\n",
    "from qiskit_machine_learning.algorithms.classifiers import VQC, NeuralNetworkClassifier\n",
    "from qiskit.quantum_info import SparsePauliOp\n",
    "from qiskit_machine_learning.neural_networks import EffectiveDimension, LocalEffectiveDimension\n",
    "\n",
    "from Components.circuits import preTrainedBlockGenerator, layerwise_training, featureMapGenerator, AnsatzGenerator\n",
    "from Components.data import iris, fetch_mnist_balanced\n",
    "from Components.utils import plot_loss, score, parity, classification_callback, plot_objfn_range, result_to_objfun_dataframes, save_results\n",
    "from Components.train import create_qnn, sampling_experiment\n",
    "\n",
    "from qiskit.providers.fake_provider import FakeVigo, FakePerth\n",
    "\n",
    "import pandas as pd\n",
    "\n",
    "import time\n",
    "\n",
    "from IPython.display import clear_output\n",
    "\n",
    "import matplotlib as mpl\n",
    "mpl.rcParams['figure.dpi'] = 200"
   ]
  },
  {
   "cell_type": "code",
   "execution_count": 3,
   "metadata": {
    "tags": []
   },
   "outputs": [
    {
     "name": "stderr",
     "output_type": "stream",
     "text": [
      "/tmp/ipykernel_326087/543270593.py:3: DeprecationWarning: The class ``qiskit.utils.quantum_instance.QuantumInstance`` is deprecated as of qiskit-terra 0.24.0. It will be removed no earlier than 3 months after the release date. For code migration guidelines, visit https://qisk.it/qi_migration.\n",
      "  q_instance = QuantumInstance(\n"
     ]
    }
   ],
   "source": [
    "backend = Aer.get_backend('statevector_simulator')\n",
    "\n",
    "q_instance = QuantumInstance(\n",
    "    backend, \n",
    "    shots = 100, \n",
    "    seed_simulator = 2718, \n",
    "    seed_transpiler = 2718,\n",
    "    )"
   ]
  },
  {
   "cell_type": "markdown",
   "metadata": {},
   "source": [
    "## Settings for experiment"
   ]
  },
  {
   "cell_type": "code",
   "execution_count": 4,
   "metadata": {
    "tags": []
   },
   "outputs": [],
   "source": [
    "FEATURE_DIM = 4\n",
    "max_qubit = FEATURE_DIM\n",
    "MAX_REPS = 9\n",
    "MIN_REPS = 3\n",
    "MAX_IDENTITIES_BLOCKS = 2  # <---- Number of identity blocks, depth values of identity blocks is close to that of normal ansatz (5 qubits)\n",
    "ENTANGLEMENT = 'linear'\n",
    "\n",
    "MAX_ITER = 150\n",
    "MAX_INST = 10\n",
    "GLOBAL_INPUT_SAMPLES = 20\n",
    "GLOBAL_WEIGHT_SAMPLES = 20\n",
    "GLOBAL_OPERATOR = PauliSumOp.from_list([('Z'*FEATURE_DIM, 1)])\n",
    "LOCAL_OPERATOR = PauliSumOp.from_list([('I' * (FEATURE_DIM - 2)+'Z'*2, 1)])\n",
    "\n",
    "\n",
    "# define ranges to test different numbers of data\n",
    "n = [75, 90, 105, 120, 135, 150, 200, 300, 400, 1000, 5000, 8000, 10000, 40000, 60000, 100000, 150000, 200000, 500000, 1000000]\n",
    "\n",
    "# use user defined data\n",
    "iris_df = iris(pd=True).drop(columns='target')\n",
    "# mnist_df = fetch_mnist_balanced(PCA_n = FEATURE_DIM, data_size=100, split=False)[0]\n",
    "\n",
    "### Select a data set and its folder\n",
    "SAVE_PATH = './Saves-iris-v3'\n",
    "input_samples = iris_df.to_numpy()\n",
    "# input_samples= mnist_df\n",
    "\n",
    "# trained weights\n",
    "Weights_0 = [pd.read_csv(f'{SAVE_PATH}/Weights/m0/sample_{i}.csv', index_col=[0]) for i in range(10)]\n",
    "Weights_1 = [pd.read_csv(f'{SAVE_PATH}/Weights/m1/sample_{i}.csv', index_col=[0]) for i in range(10)]\n",
    "Weights_2 = [pd.read_csv(f'{SAVE_PATH}/Weights/m2/sample_{i}.csv', index_col=[0]) for i in range(10)]\n",
    "Weights_3 = [pd.read_csv(f'{SAVE_PATH}/Weights/m3/sample_{i}.csv', index_col=[0]) for i in range(10)]"
   ]
  },
  {
   "cell_type": "code",
   "execution_count": 5,
   "metadata": {
    "tags": []
   },
   "outputs": [],
   "source": [
    "# Global effective dimension\n",
    "\n",
    "def get_global_ed(qnn):\n",
    "    # weight_samples = algorithm_globals.random.uniform(0, 1, size=(10, qnn.num_weights))\n",
    "\n",
    "    global_ed = EffectiveDimension(\n",
    "        qnn=qnn, \n",
    "        weight_samples=GLOBAL_WEIGHT_SAMPLES, \n",
    "        input_samples=GLOBAL_INPUT_SAMPLES\n",
    "        )\n",
    "        \n",
    "    return global_ed\n",
    "\n",
    "def get_local_ed_loop(qnn, weight_samples, input_samples, dataset_size, step_size=25):\n",
    "    local_ed_list = []\n",
    "    for i in range(0, len(weight_samples), step_size):\n",
    "        local_ed = LocalEffectiveDimension(\n",
    "            qnn=qnn, \n",
    "            weight_samples=weight_samples.iloc[i], \n",
    "            input_samples=input_samples\n",
    "        )\n",
    "        local_eff_dim = local_ed.get_effective_dimension(dataset_size=dataset_size)\n",
    "        local_ed_list.append(local_eff_dim)\n",
    "        print(f'Iteration: {i}; Local E-D: {local_eff_dim}\\n')\n",
    "\n",
    "    return local_ed_list\n",
    "\n",
    "# This function is not needed as all variants should return the same values\n",
    "def get_global_ed_loop(qnn, weight_samples, input_samples, dataset_size, step_size=25):\n",
    "    global_ed_list = []\n",
    "    \n",
    "    for i in range(0, len(weight_samples), step_size):\n",
    "        global_ed = EffectiveDimension(\n",
    "            qnn=qnn, \n",
    "            weight_samples=weight_samples, \n",
    "            input_samples=input_samples\n",
    "        )\n",
    "        global_eff_dim = global_ed.get_effective_dimension(dataset_size=dataset_size)\n",
    "        global_ed_list.append(global_eff_dim)\n",
    "        print(f'Iteration: {i}; Local E-D: {global_eff_dim}\\n')\n",
    "        \n",
    "    return global_ed_list"
   ]
  },
  {
   "cell_type": "markdown",
   "metadata": {},
   "source": [
    "## Method 0 Effective Dim (Generic - No BP Strategy)"
   ]
  },
  {
   "cell_type": "code",
   "execution_count": null,
   "metadata": {
    "tags": []
   },
   "outputs": [],
   "source": [
    "feature_map = featureMapGenerator(FEATURE_DIM)\n",
    "ansatz_method_0 = AnsatzGenerator(FEATURE_DIM, reps=MAX_REPS)\n",
    "circuit_0 = feature_map.compose(ansatz_method_0)\n",
    "\n",
    "qnn_0 = EstimatorQNN(\n",
    "    circuit=circuit_0,\n",
    "    observables=SparsePauliOp.from_operator(GLOBAL_OPERATOR),\n",
    "    input_params=list(feature_map.parameters),\n",
    "    weight_params=list(ansatz_method_0.parameters),\n",
    ")"
   ]
  },
  {
   "cell_type": "markdown",
   "metadata": {},
   "source": [
    "### Global"
   ]
  },
  {
   "cell_type": "code",
   "execution_count": null,
   "metadata": {
    "tags": []
   },
   "outputs": [],
   "source": [
    "global_ed_0 = get_global_ed(qnn=qnn_0)\n",
    "global_eff_0 = global_ed_0.get_effective_dimension(dataset_size=n)"
   ]
  },
  {
   "cell_type": "code",
   "execution_count": null,
   "metadata": {},
   "outputs": [],
   "source": [
    "# plot the normalized effective dimension for the model\n",
    "d_0 = qnn_0.num_weights\n",
    "plt.plot(n, np.array(global_eff_0) / d_0)\n",
    "plt.title(\"Normalized GLOBAL effective dimension - \"+\"Method 0\")\n",
    "plt.semilogx()\n",
    "plt.xlabel(\"Number of data\")\n",
    "plt.ylabel(\"Effective dimension\")\n",
    "plt.show()"
   ]
  },
  {
   "cell_type": "markdown",
   "metadata": {},
   "source": [
    "### Local"
   ]
  },
  {
   "cell_type": "code",
   "execution_count": null,
   "metadata": {},
   "outputs": [],
   "source": [
    "local_eff_0 = []\n",
    "\n",
    "for i in range(len(Weights_0)):\n",
    "    print(f'Weight sample {len(local_eff_0)}')\n",
    "    l_e = get_local_ed_loop(qnn_0, Weights_0[i], input_samples, n)\n",
    "    local_eff_0.append(l_e)\n",
    "    clear_output(wait=True)\n",
    "    "
   ]
  },
  {
   "cell_type": "code",
   "execution_count": null,
   "metadata": {},
   "outputs": [],
   "source": [
    "for i in range(len(local_eff_0[0])):\n",
    "    plt.plot(n, np.array(local_eff_0[0][i]) / qnn_0.num_weights, label=f\"iteration {i*25}\")\n",
    "\n",
    "plt.title(f'Method 0, d={Weights_0[0].shape[1]}')\n",
    "plt.xlabel(\"Number of data\")\n",
    "plt.ylabel(\"Normalized LOCAL effective dimension\")\n",
    "plt.legend()\n",
    "plt.plot()\n",
    "plt.semilogx()"
   ]
  },
  {
   "cell_type": "markdown",
   "metadata": {},
   "source": [
    "## Method 1 Effective Dim (Local Cost Function and Shallow Depth)"
   ]
  },
  {
   "cell_type": "code",
   "execution_count": null,
   "metadata": {
    "tags": []
   },
   "outputs": [],
   "source": [
    "feature_map = featureMapGenerator(FEATURE_DIM)\n",
    "ansatz_method_1 = AnsatzGenerator(FEATURE_DIM, reps=1)\n",
    "circuit_1 = feature_map.compose(ansatz_method_1)\n",
    "\n",
    "qnn_1 = EstimatorQNN(\n",
    "    circuit = circuit_1,\n",
    "    observables=SparsePauliOp.from_operator(LOCAL_OPERATOR),\n",
    "    input_params=list(feature_map.parameters),\n",
    "    weight_params=list(ansatz_method_1.parameters),\n",
    ")"
   ]
  },
  {
   "cell_type": "markdown",
   "metadata": {},
   "source": [
    "### Global"
   ]
  },
  {
   "cell_type": "code",
   "execution_count": null,
   "metadata": {
    "tags": []
   },
   "outputs": [],
   "source": [
    "global_ed_1 = get_global_ed(qnn=qnn_1)\n",
    "global_eff_1 = global_ed_1.get_effective_dimension(dataset_size=n)"
   ]
  },
  {
   "cell_type": "code",
   "execution_count": null,
   "metadata": {},
   "outputs": [],
   "source": [
    "# plot the normalized effective dimension for the model\n",
    "d_1 = qnn_1.num_weights\n",
    "plt.plot(n, np.array(global_eff_1) / d_1)\n",
    "plt.title(\"Normalized GLOBAL effective dimension - \"+\"Method 1\")\n",
    "plt.semilogx()\n",
    "plt.xlabel(\"Number of data\")\n",
    "plt.ylabel(\"Effective dimension\")\n",
    "plt.show()"
   ]
  },
  {
   "cell_type": "markdown",
   "metadata": {},
   "source": [
    "### Local"
   ]
  },
  {
   "cell_type": "code",
   "execution_count": null,
   "metadata": {},
   "outputs": [],
   "source": [
    "local_eff_1 = []\n",
    "\n",
    "for i in range(len(Weights_1)):\n",
    "    print(f'Weight sample {len(local_eff_1)}')\n",
    "    l_e = get_local_ed_loop(qnn_1, Weights_1[i], input_samples, n)\n",
    "    local_eff_1.append(l_e)\n",
    "    clear_output(wait=True)"
   ]
  },
  {
   "cell_type": "code",
   "execution_count": null,
   "metadata": {},
   "outputs": [],
   "source": [
    "for i in range(len(local_eff_1[0])):\n",
    "    plt.plot(n, np.array(local_eff_1[0][i]) / qnn_1.num_weights, label=f\"iteration {i*25}\")\n",
    "\n",
    "plt.title(f'Method 1, d={Weights_1[0].shape[1]}')\n",
    "plt.xlabel(\"Number of data\")\n",
    "plt.ylabel(\"Normalized LOCAL effective dimension\")\n",
    "plt.legend()\n",
    "plt.plot()\n",
    "plt.semilogx()"
   ]
  },
  {
   "cell_type": "markdown",
   "metadata": {},
   "source": [
    "## Method 2 Effective Dim (Layerwise Learning)"
   ]
  },
  {
   "cell_type": "code",
   "execution_count": null,
   "metadata": {
    "tags": []
   },
   "outputs": [],
   "source": [
    "feature_map = featureMapGenerator(FEATURE_DIM)\n",
    "ansatz_method_2 = AnsatzGenerator(FEATURE_DIM, reps=MAX_REPS)\n",
    "circuit_2 = feature_map.compose(ansatz_method_2)\n",
    "\n",
    "optimizer = COBYLA(maxiter=50)\n",
    "\n",
    "qnn_2 = SamplerQNN(\n",
    "    circuit = circuit_2,\n",
    "    input_params=list(feature_map.parameters),\n",
    "    weight_params=list(ansatz_method_2.parameters),\n",
    "    sparse=False\n",
    ")"
   ]
  },
  {
   "cell_type": "markdown",
   "metadata": {},
   "source": [
    "### Global"
   ]
  },
  {
   "cell_type": "code",
   "execution_count": null,
   "metadata": {
    "tags": []
   },
   "outputs": [],
   "source": [
    "global_ed_2 = get_global_ed(qnn=qnn_2)\n",
    "global_eff_2 = global_ed_2.get_effective_dimension(dataset_size=n)"
   ]
  },
  {
   "cell_type": "code",
   "execution_count": null,
   "metadata": {},
   "outputs": [],
   "source": [
    "# plot the normalized effective dimension for the model\n",
    "d_2 = qnn_2.num_weights\n",
    "plt.plot(n, np.array(global_eff_2) / d_2)\n",
    "plt.title(\"Normalized GLOBAL effective dimension - \"+\"Method 2\")\n",
    "plt.semilogx()\n",
    "plt.xlabel(\"Number of data\")\n",
    "plt.ylabel(\"Effective dimension\")\n",
    "plt.show()"
   ]
  },
  {
   "cell_type": "markdown",
   "metadata": {},
   "source": [
    "### Local"
   ]
  },
  {
   "cell_type": "code",
   "execution_count": null,
   "metadata": {},
   "outputs": [],
   "source": [
    "local_eff_2 = []\n",
    "\n",
    "for i in range(len(Weights_2)):\n",
    "    print(f'Weight sample {len(local_eff_2)}')\n",
    "    l_e = get_local_ed_loop(qnn_2, Weights_2[i], input_samples, n)\n",
    "    local_eff_2.append(l_e)\n",
    "    clear_output(wait=True)"
   ]
  },
  {
   "cell_type": "code",
   "execution_count": null,
   "metadata": {},
   "outputs": [],
   "source": [
    "for i in range(len(local_eff_2[0])):\n",
    "    plt.plot(n, np.array(local_eff_2[0][i]) / qnn_2.num_weights, label=f\"iteration {i*25}\")\n",
    "\n",
    "plt.title(f'Method 2, d={Weights_2[0].shape[1]}')\n",
    "plt.xlabel(\"Number of data\")\n",
    "plt.ylabel(\"Normalized LOCAL effective dimension\")\n",
    "plt.legend()\n",
    "plt.plot()\n",
    "plt.semilogx()"
   ]
  },
  {
   "cell_type": "markdown",
   "metadata": {},
   "source": [
    "## Method 3 Effective Dim (Identity Blocks)"
   ]
  },
  {
   "cell_type": "code",
   "execution_count": 6,
   "metadata": {},
   "outputs": [],
   "source": [
    "from qiskit.primitives import Estimator # Statevector estimator"
   ]
  },
  {
   "cell_type": "code",
   "execution_count": 7,
   "metadata": {
    "tags": []
   },
   "outputs": [],
   "source": [
    "feature_map = featureMapGenerator(max_qubit)\n",
    "identity_block = preTrainedBlockGenerator(FEATURE_DIM, MAX_IDENTITIES_BLOCKS, overlay=2, entanglement=ENTANGLEMENT, insert_barriers=True)\n",
    "ansatz_method_3 = identity_block['circuit']\n",
    "circuit_3 = feature_map.compose(ansatz_method_3)\n",
    "\n",
    "# qnn_3 = SamplerQNN(\n",
    "#     circuit = circuit_3,\n",
    "#     input_params=list(feature_map.parameters),\n",
    "#     weight_params=list(ansatz_method_3.parameters),\n",
    "#     sparse=False\n",
    "# )\n",
    "\n",
    "qnn_3 = EstimatorQNN(\n",
    "    circuit=circuit_3,\n",
    "    estimator=Estimator(),\n",
    "    observables=GLOBAL_OPERATOR,\n",
    "    input_params=feature_map.parameters,\n",
    "    weight_params=ansatz_method_3.parameters\n",
    ")\n"
   ]
  },
  {
   "cell_type": "markdown",
   "metadata": {},
   "source": [
    "### Global"
   ]
  },
  {
   "cell_type": "code",
   "execution_count": 8,
   "metadata": {
    "tags": []
   },
   "outputs": [],
   "source": [
    "global_ed_3 = get_global_ed(qnn=qnn_3)\n",
    "global_eff_3 = global_ed_3.get_effective_dimension(dataset_size=n)"
   ]
  },
  {
   "cell_type": "code",
   "execution_count": 9,
   "metadata": {},
   "outputs": [
    {
     "data": {
      "image/png": "[encoded data removed]",
      "text/plain": [
       "<Figure size 432x288 with 1 Axes>"
      ]
     },
     "metadata": {
      "needs_background": "light"
     },
     "output_type": "display_data"
    }
   ],
   "source": [
    "# plot the normalized effective dimension for the model\n",
    "d_3 = qnn_3.num_weights\n",
    "plt.plot(n, np.array(global_eff_3) / d_3)\n",
    "plt.title(\"Normalized GLOBAL effective dimension - \"+\"Method 3\")\n",
    "plt.semilogx()\n",
    "plt.xlabel(\"Number of data\")\n",
    "plt.ylabel(\"Effective dimension\")\n",
    "plt.show()"
   ]
  },
  {
   "cell_type": "markdown",
   "metadata": {},
   "source": [
    "### Local"
   ]
  },
  {
   "cell_type": "code",
   "execution_count": 10,
   "metadata": {},
   "outputs": [
    {
     "name": "stdout",
     "output_type": "stream",
     "text": [
      "Weight sample 9\n",
      "Iteration: 0; Local E-D: [25.25216843 23.51275862 22.3542494  21.52333126 20.89594639 20.4040144\n",
      " 19.32086473 18.24960902 17.70493719 16.65006232 15.91545308 15.81135654\n",
      " 15.77070575 15.59530891 15.55987546 15.52142729 15.4947863  15.4775883\n",
      " 15.43028537 15.40041783]\n",
      "\n",
      "Iteration: 25; Local E-D: [25.75568064 24.06894091 22.95660967 22.16711905 21.57747597 21.12031206\n",
      " 20.13719094 19.22005224 18.79402302 18.16350847 18.29518905 18.4604053\n",
      " 18.54876791 19.17157946 19.36158338 19.59681657 19.77727097 19.90086994\n",
      " 20.26555054 20.51040365]\n",
      "\n",
      "Iteration: 50; Local E-D: [29.40369798 27.52688893 26.28907977 25.40991865 24.75250935 24.24195733\n",
      " 23.13893169 22.09393168 21.59355495 20.76139262 20.56509881 20.63444821\n",
      " 20.67676456 21.00268622 21.10460474 21.23189429 21.33104683 21.40005656\n",
      " 21.61040051 21.75771277]\n",
      "\n",
      "Iteration: 75; Local E-D: [29.84311594 27.92801774 26.66420957 25.76611097 25.09422741 24.57221794\n",
      " 23.44366354 22.37328832 21.86031578 21.00710823 20.80312331 20.87043906\n",
      " 20.91155747 21.23002682 21.3306041  21.45655052 21.55445001 21.62223089\n",
      " 21.82575814 21.96506496]\n",
      "\n",
      "Iteration: 100; Local E-D: [30.30045269 28.36538093 27.0884664  26.18101723 25.50205593 24.97444891\n",
      " 23.83317708 22.74889194 22.2277343  21.35430713 21.1351373  21.20285707\n",
      " 21.24479288 21.57141699 21.67277588 21.79699753 21.89113737 21.95503944\n",
      " 22.14120587 22.26466304]\n",
      "\n",
      "Iteration: 125; Local E-D: [30.71500527 28.75504919 27.46209928 26.54354531 25.85649709 25.32277668\n",
      " 24.16897626 23.07398174 22.54803698 21.66266972 21.40057556 21.451023\n",
      " 21.4847368  21.76661447 21.85751415 21.97001971 22.05584083 22.11429258\n",
      " 22.28518382 22.3988236 ]\n",
      "\n"
     ]
    }
   ],
   "source": [
    "local_eff_3 = []\n",
    "for i in range(len(Weights_3)):\n",
    "    print(f'Weight sample {len(local_eff_3)}')\n",
    "    l_e = get_local_ed_loop(qnn_3, Weights_3[i], input_samples, n)\n",
    "    local_eff_3.append(l_e)\n",
    "    clear_output(wait=True)"
   ]
  },
  {
   "cell_type": "code",
   "execution_count": 11,
   "metadata": {},
   "outputs": [
    {
     "data": {
      "text/plain": [
       "[]"
      ]
     },
     "execution_count": 11,
     "metadata": {},
     "output_type": "execute_result"
    },
    {
     "data": {
      "image/png": "[encoded data removed]",
      "text/plain": [
       "<Figure size 432x288 with 1 Axes>"
      ]
     },
     "metadata": {
      "needs_background": "light"
     },
     "output_type": "display_data"
    }
   ],
   "source": [
    "for i in range(len(local_eff_3[0])):\n",
    "    plt.plot(n, np.array(local_eff_3[0][i]) / qnn_3.num_weights, label=f\"iteration {i*25}\")\n",
    "\n",
    "plt.title(f'Method 3, d={Weights_3[0].shape[1]}')\n",
    "plt.xlabel(\"Number of data\")\n",
    "plt.ylabel(\"Normalized LOCAL effective dimension\")\n",
    "plt.legend()\n",
    "plt.plot()\n",
    "plt.semilogx()"
   ]
  },
  {
   "cell_type": "markdown",
   "metadata": {},
   "source": [
    "### Save Scripts"
   ]
  },
  {
   "cell_type": "code",
   "execution_count": 12,
   "metadata": {},
   "outputs": [],
   "source": [
    "# l_eff = [local_eff_0, local_eff_1, local_eff_2, local_eff_3]\n",
    "# for i in range(len(l_eff)):\n",
    "#     for l in range(len(l_eff[i])):\n",
    "#         df = pd.DataFrame(l_eff[i][l])\n",
    "#         df.to_csv(f'{SAVE_PATH}/LocalED/m{i}/sample_{l}.csv')"
   ]
  },
  {
   "cell_type": "code",
   "execution_count": 14,
   "metadata": {},
   "outputs": [],
   "source": [
    "l_eff = [0, 1, 2, local_eff_3]\n",
    "i = 3\n",
    "# for i in range(len(l_eff)):\n",
    "for l in range(len(l_eff[i])):\n",
    "    df = pd.DataFrame(l_eff[i][l])\n",
    "    df.to_csv(f'{SAVE_PATH}/LocalED/m{i}/sample_{l}.csv')"
   ]
  },
  {
   "cell_type": "code",
   "execution_count": 15,
   "metadata": {
    "tags": []
   },
   "outputs": [],
   "source": [
    "# g_eff = [global_eff_0, global_eff_1, global_eff_2, global_eff_3]\n",
    "# for i in range(len(g_eff)):\n",
    "#     df = pd.DataFrame(g_eff[i])\n",
    "#     df.to_csv(f'{SAVE_PATH}/GlobalED/m{i}/sample.csv')"
   ]
  },
  {
   "cell_type": "code",
   "execution_count": 16,
   "metadata": {},
   "outputs": [],
   "source": [
    "g_eff = [0, 1, 2, global_eff_3]\n",
    "i = 3\n",
    "df = pd.DataFrame(g_eff[i])\n",
    "df.to_csv(f'{SAVE_PATH}/GlobalED/m{i}/sample.csv')"
   ]
  },
  {
   "cell_type": "markdown",
   "metadata": {},
   "source": [
    "## Results Global"
   ]
  },
  {
   "cell_type": "markdown",
   "metadata": {},
   "source": [
    "We expect the model with more capacity would reflect to the line that stays on top.\n",
    "See Section 4.2 of [The power of quantum neural networks](https://arxiv.org/pdf/2011.00027v1.pdf)\n",
    "\n",
    "Expect the local effective dimension would decrease after training.\n",
    "It is because of the model has adapted to solving a specific problem, while the goal of the machine learning is to pick a model that is expressive enough to train.\n",
    "However this piece of information is out of scope, because our goal is to measure the capacity (expressiveness) of models, not to discover how the training affect the model expressiveness."
   ]
  },
  {
   "cell_type": "code",
   "execution_count": null,
   "metadata": {
    "tags": []
   },
   "outputs": [],
   "source": [
    "plt.title('GLOBAL Effective Dimension (Normalized)')\n",
    "plt.plot(n, np.array(global_eff_0) / qnn_0.num_weights, label = 'method 0')\n",
    "plt.plot(n, np.array(global_eff_1) / qnn_1.num_weights, label = 'method 1')\n",
    "plt.plot(n, np.array(global_eff_2) / qnn_2.num_weights, label = 'method 2')\n",
    "plt.plot(n, np.array(global_eff_3) / qnn_3.num_weights, label = 'method 3')\n",
    "plt.xlabel(\"Number of data\")\n",
    "plt.ylabel(\"Normalized GLOBAL effective dimension\")\n",
    "plt.legend(loc='best')\n",
    "plt.plot()\n",
    "plt.semilogx()"
   ]
  },
  {
   "cell_type": "code",
   "execution_count": null,
   "metadata": {},
   "outputs": [],
   "source": [
    "plt.title('GLOBAL Effective Dimension (Raw)')\n",
    "plt.plot(n, np.array(global_eff_0), label = 'method 0')\n",
    "plt.plot(n, np.array(global_eff_1), label = 'method 1')\n",
    "plt.plot(n, np.array(global_eff_2), label = 'method 2')\n",
    "plt.plot(n, np.array(global_eff_3), label = 'method 3')\n",
    "plt.xlabel(\"Number of data\")\n",
    "plt.ylabel(\"GLOBAL effective dimension\")\n",
    "plt.legend(loc='best')\n",
    "plt.plot()\n",
    "plt.semilogx()"
   ]
  },
  {
   "cell_type": "code",
   "execution_count": null,
   "metadata": {},
   "outputs": [],
   "source": []
  }
 ],
 "metadata": {
  "kernelspec": {
   "display_name": "Python 3 (ipykernel)",
   "language": "python",
   "name": "python3"
  },
  "language_info": {
   "codemirror_mode": {
    "name": "ipython",
    "version": 3
   },
   "file_extension": ".py",
   "mimetype": "text/x-python",
   "name": "python",
   "nbconvert_exporter": "python",
   "pygments_lexer": "ipython3",
   "version": "3.8.13"
  },
  "vscode": {
   "interpreter": {
    "hash": "81e9d827a6bbb46f17f8a3089a2dad663ca51d533d047d0278aae86c4cf6dfb9"
   }
  }
 },
 "nbformat": 4,
 "nbformat_minor": 4
}
